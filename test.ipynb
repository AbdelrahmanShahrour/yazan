{
 "cells": [
  {
   "cell_type": "code",
   "execution_count": 1,
   "id": "acefe259",
   "metadata": {},
   "outputs": [],
   "source": [
    "import pandas as pd\n",
    "import numpy as np"
   ]
  },
  {
   "cell_type": "code",
   "execution_count": 26,
   "id": "ff57b58c",
   "metadata": {},
   "outputs": [],
   "source": [
    "data1 = pd.read_csv('data/أدبي.csv')\n",
    "data2 = pd.read_csv('data/علمي.csv')\n",
    "data3 = pd.read_csv(\"datanotebook1.csv\")"
   ]
  },
  {
   "cell_type": "code",
   "execution_count": 7,
   "id": "048c960e",
   "metadata": {},
   "outputs": [
    {
     "data": {
      "text/plain": [
       "True"
      ]
     },
     "execution_count": 7,
     "metadata": {},
     "output_type": "execute_result"
    }
   ],
   "source": [
    "list(data1.columns) == list(data1.columns)"
   ]
  },
  {
   "cell_type": "code",
   "execution_count": 10,
   "id": "b18f494a",
   "metadata": {},
   "outputs": [
    {
     "data": {
      "text/plain": [
       "['معدلك في الثانوية العامة',\n",
       " 'نوع المدرسة',\n",
       " 'الوضع الاقتصادي',\n",
       " 'طبيعة عمل ولي الامر',\n",
       " 'طبيعة السكن',\n",
       " 'هل كنت تمتلك جهاز حاسوب',\n",
       " 'هل يمتلك ولي أمرك وسيلة نقل خاصة',\n",
       " 'التحصيل العلمي للوالد',\n",
       " 'التحصيل العلمي للوالدة',\n",
       " 'نوع الجامعة',\n",
       " 'مشاكل في النظر',\n",
       " 'مشاكل في السمع',\n",
       " 'مشاكل جسدية',\n",
       " 'لا يوجد مشاكل',\n",
       " 'الرياضة هوايتي',\n",
       " 'القراءة هوايتي',\n",
       " 'الكتابة هوايتي',\n",
       " 'التحليل هوايتي',\n",
       " 'حل المسائل هوايتي',\n",
       " 'التكنولوجيا هوايتي',\n",
       " 'لا يوجد هواية',\n",
       " 'كليتك؟']"
      ]
     },
     "execution_count": 10,
     "metadata": {},
     "output_type": "execute_result"
    }
   ],
   "source": [
    "x = list(data1.columns)\n",
    "x"
   ]
  },
  {
   "cell_type": "code",
   "execution_count": 37,
   "id": "6d82685a",
   "metadata": {},
   "outputs": [
    {
     "data": {
      "text/plain": [
       "array([1, 0])"
      ]
     },
     "execution_count": 37,
     "metadata": {},
     "output_type": "execute_result"
    }
   ],
   "source": [
    "data1[x[6]].unique()"
   ]
  },
  {
   "cell_type": "code",
   "execution_count": 38,
   "id": "7e35e43b",
   "metadata": {},
   "outputs": [
    {
     "data": {
      "text/plain": [
       "array([0., 1.])"
      ]
     },
     "execution_count": 38,
     "metadata": {},
     "output_type": "execute_result"
    }
   ],
   "source": [
    "data2[x[6]].unique()"
   ]
  },
  {
   "cell_type": "code",
   "execution_count": 47,
   "id": "23547725",
   "metadata": {},
   "outputs": [
    {
     "data": {
      "text/plain": [
       "array([1, 0])"
      ]
     },
     "execution_count": 47,
     "metadata": {},
     "output_type": "execute_result"
    }
   ],
   "source": [
    "data3[x[10]].unique()"
   ]
  },
  {
   "cell_type": "code",
   "execution_count": 60,
   "id": "9355a7c8",
   "metadata": {},
   "outputs": [
    {
     "ename": "IndexError",
     "evalue": "list index out of range",
     "output_type": "error",
     "traceback": [
      "\u001b[0;31m---------------------------------------------------------------------------\u001b[0m",
      "\u001b[0;31mIndexError\u001b[0m                                Traceback (most recent call last)",
      "Cell \u001b[0;32mIn[60], line 1\u001b[0m\n\u001b[0;32m----> 1\u001b[0m \u001b[43mx\u001b[49m\u001b[43m[\u001b[49m\u001b[38;5;241;43m22\u001b[39;49m\u001b[43m]\u001b[49m\n",
      "\u001b[0;31mIndexError\u001b[0m: list index out of range"
     ]
    }
   ],
   "source": [
    "x[22]"
   ]
  },
  {
   "cell_type": "code",
   "execution_count": null,
   "id": "5a8d16c0",
   "metadata": {},
   "outputs": [],
   "source": []
  }
 ],
 "metadata": {
  "kernelspec": {
   "display_name": "Python 3 (ipykernel)",
   "language": "python",
   "name": "python3"
  },
  "language_info": {
   "codemirror_mode": {
    "name": "ipython",
    "version": 3
   },
   "file_extension": ".py",
   "mimetype": "text/x-python",
   "name": "python",
   "nbconvert_exporter": "python",
   "pygments_lexer": "ipython3",
   "version": "3.10.6"
  }
 },
 "nbformat": 4,
 "nbformat_minor": 5
}
